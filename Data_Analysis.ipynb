{
 "metadata": {
  "language_info": {
   "codemirror_mode": {
    "name": "ipython",
    "version": 3
   },
   "file_extension": ".py",
   "mimetype": "text/x-python",
   "name": "python",
   "nbconvert_exporter": "python",
   "pygments_lexer": "ipython3",
   "version": "3.7.4-final"
  },
  "orig_nbformat": 2,
  "kernelspec": {
   "name": "python37464bitbb9b8d1094124fc0b05771ed9a99c636",
   "display_name": "Python 3.7.4 64-bit"
  }
 },
 "nbformat": 4,
 "nbformat_minor": 2,
 "cells": [
  {
   "cell_type": "code",
   "execution_count": 3,
   "metadata": {},
   "outputs": [],
   "source": [
    "import pandas as pd\n",
    "import numpy as np\n",
    "\n",
    "path = ''\n",
    "\n",
    "filename = 'Data_Analysis_Temp.xlsx'\n"
   ]
  },
  {
   "cell_type": "code",
   "execution_count": 4,
   "metadata": {
    "tags": []
   },
   "outputs": [
    {
     "output_type": "stream",
     "name": "stdout",
     "text": "SF_F          SF_p     SC_chi2           SC_p     LR_chi2  \\\n0  151.288614  3.070620e-32  151.795160   7.024180e-35  140.261457   \n1   18.144873  2.291907e-05   18.213258   1.974993e-05   18.008773   \n2   13.043168  3.262740e-04   13.099388   2.953920e-04   12.978158   \n3  102.472420  2.475630e-22  102.988221   3.371470e-24   95.034361   \n4   87.252722  3.226049e-19   87.780461   7.313788e-21   80.860281   \n5  142.166945  3.243140e-28  143.243968   5.198630e-33  122.395089   \n6  144.347447  2.369320e-27  145.810428   1.428190e-33  118.764179   \n7  118.612983  6.645260e-22  120.428488   5.097150e-28   94.172491   \n8  547.737748  1.883460e-41  564.854552  7.389200e-125  188.391379   \n9  237.039198  1.246880e-47  237.832856   1.167480e-53  211.011881   \n\n           LR_p        PF_F          PF_p  Itrctn    Note  \n0  2.333670e-32  151.288614  3.070620e-32    True  1 -> 2  \n1  2.198892e-05   18.144873  2.291907e-05    True  1 -> 2  \n2  3.151460e-04   13.043168  3.262740e-04    True  1 -> 2  \n3  1.871090e-22  102.472420  2.475630e-22    True  1 -> 2  \n4  2.422542e-19   87.252722  3.226049e-19    True  1 -> 2  \n5  1.891580e-28  142.166945  3.243140e-28    True  1 -> 2  \n6  1.179510e-27  144.347447  2.369320e-27    True  1 -> 2  \n7  2.891920e-22  118.612983  6.645260e-22    True  1 -> 2  \n8  7.136180e-43  547.737748  1.883460e-41    True  1 -> 2  \n9  8.262370e-48  237.039198  1.246880e-47    True  2 -> 1  \n"
    }
   ],
   "source": [
    "data = pd.read_excel(path+filename, sheet_name='3')\n",
    "data.shape\n",
    "print(data.head(10))"
   ]
  },
  {
   "cell_type": "code",
   "execution_count": 7,
   "metadata": {
    "tags": []
   },
   "outputs": [
    {
     "output_type": "stream",
     "name": "stdout",
     "text": "SF_F          SF_p  Itrctn    Note\n0   257.260778  4.367490e-51    True  2 -> 3\n1   237.039198  1.246880e-47    True  2 -> 1\n2   547.737748  1.883460e-41    True  1 -> 2\n3   183.807637  3.181510e-38    True  3 -> 2\n4   443.560074  9.170050e-38    True  3 -> 2\n5   194.051690  3.544220e-36    True  2 -> 1\n6   218.170960  1.121990e-33    True  2 -> 3\n7   151.288614  3.070620e-32    True  1 -> 2\n8   152.177899  9.232150e-32    True  2 -> 1\n9   147.576095  6.207520e-31    True  2 -> 3\n10  184.472416  4.781640e-30    True  2 -> 1\n11  138.462822  6.882740e-29    True  2 -> 3\n12  137.490031  1.024500e-28    True  2 -> 1\n13  142.166945  3.243140e-28    True  1 -> 2\n14  144.347447  2.369320e-27    True  1 -> 2\n15  125.518705  1.432600e-26    True  3 -> 2\n16  131.570951  1.710750e-26    True  2 -> 3\n17  189.406591  1.919710e-24    True  2 -> 3\n18  123.474738  3.302010e-24    True  3 -> 2\n19  123.388041  3.405410e-24    True  2 -> 1\n20  131.858112  1.131670e-23    True  3 -> 2\n21  177.113480  1.606560e-23    True  2 -> 1\n22  108.660528  1.208290e-22    True  3 -> 2\n23  105.847565  1.242196e-22    True  2 -> 3\n24  102.472420  2.475630e-22    True  1 -> 2\n25  103.932039  2.758898e-22    True  2 -> 1\n26   99.352315  3.929194e-22    True  2 -> 1\n27  118.612983  6.645260e-22    True  1 -> 2\n28   91.144803  1.593799e-20    True  2 -> 3\n29   88.987892  1.531744e-19    True  3 -> 2\n30   87.252722  3.226049e-19    True  1 -> 2\n31   85.365875  4.996010e-18    True  2 -> 3\n32   43.338959  4.118070e-10   False  3 -> 1\n33   35.615448  1.107550e-08   False  1 -> 3\n34   24.103279  1.108021e-06    True  3 -> 2\n35   22.994438  5.935840e-06   False  3 -> 1\n36   19.562723  1.129410e-05    True  3 -> 2\n37   18.333439  2.114630e-05   False  1 -> 3\n38   18.144873  2.291907e-05    True  1 -> 2\n39   14.166778  1.814090e-04   False  3 -> 1\n40   13.043168  3.262740e-04    True  1 -> 2\n41   13.150313  4.625410e-04   False  1 -> 3\n42   10.062589  1.571155e-03   False  3 -> 1\n43    9.542401  2.077572e-03   False  1 -> 3\n44    4.674992  3.120311e-02   False  3 -> 1\n45    4.453178  3.546299e-02   False  1 -> 3\n46    2.308577  1.290145e-01   False  3 -> 1\n47    1.602728  2.060117e-01   False  3 -> 1\n48    1.266682  2.608431e-01   False  1 -> 3\n49    0.791422  3.743930e-01   False  3 -> 1\n50    0.058226  8.093769e-01   False  1 -> 3\n51    0.051924  8.199062e-01   False  1 -> 3\n52    0.021488  8.835156e-01   False  1 -> 3\n53    0.001798  9.661946e-01   False  3 -> 1\nTotal entries: 54\n"
    }
   ],
   "source": [
    "sorted_data = data.sort_values(by=['SF_p'], ascending=True)\n",
    "f_test_data = sorted_data[['SF_F', 'SF_p', 'Itrctn', 'Note']]\n",
    "f_test_data.reset_index(drop=True, inplace=True)\n",
    "total_test = len(f_test_data.index)\n",
    "p_raw = 0.05\n",
    "\n",
    "print(f_test_data.head(55))\n",
    "print(\"Total entries:\", total_test)"
   ]
  },
  {
   "cell_type": "code",
   "execution_count": 8,
   "metadata": {},
   "outputs": [],
   "source": [
    "# Bonferroni Default:\n",
    "def bonferroni_default(p):\n",
    "    result = str(p*(1/total_test))\n",
    "    return result"
   ]
  },
  {
   "cell_type": "code",
   "execution_count": 9,
   "metadata": {
    "tags": []
   },
   "outputs": [
    {
     "output_type": "stream",
     "name": "stdout",
     "text": "0.000925925925925926\n"
    }
   ],
   "source": [
    "print(bonferroni_default(p_raw))"
   ]
  },
  {
   "cell_type": "code",
   "execution_count": 10,
   "metadata": {},
   "outputs": [],
   "source": [
    "# FDR by Benjamini and Hochberg\n",
    "def fdr_bh(order, curr_p):\n",
    "    result = []\n",
    "    p_k_ref = p_raw*(order/total_test)\n",
    "    q_value = curr_p*(total_test/order)\n",
    "    result.append(p_k_ref)\n",
    "    result.append(q_value)\n",
    "    return result\n"
   ]
  },
  {
   "cell_type": "code",
   "execution_count": 11,
   "metadata": {
    "tags": []
   },
   "outputs": [
    {
     "output_type": "stream",
     "name": "stdout",
     "text": "SF_p         p_ref       q_value  p<p_k    p<q  Itrctn\n0   4.367490e-51  9.259259e-04  3.366576e-46   True   True    True\n1   1.246880e-47  1.851852e-03  3.390228e-40   True   True    True\n2   1.883460e-41  2.777778e-03  4.295038e-37   True   True    True\n3   3.181510e-38  3.703704e-03  9.903654e-37   True   True    True\n4   9.170050e-38  4.629630e-03  3.189798e-35   True   True    True\n5   3.544220e-36  5.555556e-03  8.655351e-33   True   True    True\n6   1.121990e-33  6.481481e-03  2.072668e-31   True   True    True\n7   3.070620e-32  7.407407e-03  5.539290e-31   True   True    True\n8   9.232150e-32  8.333333e-03  3.352061e-30   True   True    True\n9   6.207520e-31  9.259259e-03  2.347351e-29   True   True    True\n10  4.781640e-30  1.018519e-02  3.097233e-28   True   True    True\n11  6.882740e-29  1.111111e-02  4.255615e-28   True   True    True\n12  1.024500e-28  1.203704e-02  1.250925e-27   True   True    True\n13  3.243140e-28  1.296296e-02  8.529552e-27   True   True    True\n14  2.369320e-27  1.388889e-02  4.835025e-26   True   True    True\n15  1.432600e-26  1.481481e-02  5.434147e-26   True   True    True\n16  1.710750e-26  1.574074e-02  5.759130e-24   True   True    True\n17  1.919710e-24  1.666667e-02  9.384660e-24   True   True    True\n18  3.302010e-24  1.759259e-02  9.384660e-24   True   True    True\n19  3.405410e-24  1.851852e-02  2.910009e-23   True   True    True\n20  1.131670e-23  1.944444e-02  3.943375e-23   True   True    True\n21  1.606560e-23  2.037037e-02  2.836855e-22   True   True    True\n22  1.208290e-22  2.129630e-02  2.836855e-22   True   True    True\n23  1.242196e-22  2.222222e-02  5.347361e-22   True   True    True\n24  2.475630e-22  2.314815e-02  5.730018e-22   True   True    True\n25  2.758898e-22  2.407407e-02  7.858389e-22   True   True    True\n26  3.929194e-22  2.500000e-02  1.281586e-21   True   True    True\n27  6.645260e-22  2.592593e-02  2.967764e-20   True   True    True\n28  1.593799e-20  2.685185e-02  2.757140e-19   True   True    True\n29  1.531744e-19  2.777778e-02  5.619569e-19   True   True    True\n30  3.226049e-19  2.870370e-02  8.430767e-18   True   True    True\n31  4.996010e-18  2.962963e-02  6.738660e-10   True   True    True\n32  4.118070e-10  3.055556e-02  1.759050e-08   True   True   False\n33  1.107550e-08  3.148148e-02  1.709518e-06   True   True   False\n34  1.108021e-06  3.240741e-02  8.903760e-06   True   True    True\n35  5.935840e-06  3.333333e-02  1.648328e-05   True   True   False\n36  1.129410e-05  3.425926e-02  3.005001e-05   True   True    True\n37  2.114630e-05  3.518519e-02  3.173410e-05   True   True   False\n38  2.291907e-05  3.611111e-02  2.449022e-04   True   True    True\n39  1.814090e-04  3.703704e-02  4.297267e-04   True   True   False\n40  3.262740e-04  3.796296e-02  5.946956e-04   True   True    True\n41  4.625410e-04  3.888889e-02  1.973078e-03   True   True   False\n42  1.571155e-03  3.981481e-02  2.549747e-03   True   True   False\n43  2.077572e-03  4.074074e-02  3.744373e-02   True   True   False\n44  3.120311e-02  4.166667e-02  4.163047e-02   True   True   False\n45  3.546299e-02  4.259259e-02  1.482294e-01   True   True   False\n46  1.290145e-01  4.351852e-02  2.317632e-01  False   True   False\n47  2.060117e-01  4.444444e-02  2.874597e-01  False   True   False\n48  2.608431e-01  4.537037e-02  4.043444e-01  False   True   False\n49  3.743930e-01  4.629630e-02  8.569873e-01  False   True   False\n50  8.093769e-01  4.722222e-02  8.569873e-01  False   True   False\n51  8.199062e-01  4.814815e-02  9.001857e-01  False   True   False\n52  8.835156e-01  4.907407e-02  9.661946e-01  False   True   False\n53  9.661946e-01  5.000000e-02  9.661946e-01  False  False   False\n"
    }
   ],
   "source": [
    "p_ref_list = []\n",
    "q_value_list = []\n",
    "compare_1 = []\n",
    "compare_2 = []\n",
    "for i in f_test_data.index:\n",
    "    p_value = f_test_data['SF_p'][i]\n",
    "    p_ref = '%e' % (fdr_bh(i+1, p_value)[0])\n",
    "    q_value = fdr_bh(i+1, p_value)[1]\n",
    "\n",
    "    p_ref_list.append(p_ref)\n",
    "    q_value_list.append(q_value)\n",
    "    compare_1.append(float(p_value) < float(p_ref))\n",
    "    compare_2.append(float(p_value) < float(q_value))\n",
    "\n",
    "    #print(\"Rank:\", i+1, p_value, p_ref, q_value)\n",
    "for i in range(len(q_value_list)-1):\n",
    "    if q_value_list[i+1] > q_value_list[i]:\n",
    "        q_value_list[i] = q_value_list[i+1]\n",
    "\n",
    "df_bh = pd.DataFrame(\n",
    "    {\"p_ref\": p_ref_list,\n",
    "     \"q_value\": q_value_list,\n",
    "     \"p<p_k\": compare_1,\n",
    "     \"p<q\": compare_2}\n",
    ")\n",
    "\n",
    "print(pd.concat([f_test_data['SF_p'], df_bh, f_test_data['Itrctn']], axis=1))\n"
   ]
  },
  {
   "cell_type": "code",
   "execution_count": null,
   "metadata": {},
   "outputs": [],
   "source": []
  }
 ]
}